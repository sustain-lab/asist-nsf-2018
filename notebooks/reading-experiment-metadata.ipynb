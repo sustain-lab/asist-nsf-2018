{
 "cells": [
  {
   "cell_type": "markdown",
   "metadata": {},
   "source": [
    "# Loading ASIST-NSF-2018 experiments metadata\n",
    "\n",
    "The metadata for all experiments, including the pre- and post- experiments\n",
    "are defined in the `asist_nsf_2018.experiments` module:"
   ]
  },
  {
   "cell_type": "code",
   "execution_count": 1,
   "metadata": {},
   "outputs": [],
   "source": [
    "from asist_nsf_2018.experiments import experiments"
   ]
  },
  {
   "cell_type": "markdown",
   "metadata": {},
   "source": [
    "`experiments` is a dictionary containing the short experiment names as dictionary keys, and `Experiment` class instances as values:"
   ]
  },
  {
   "cell_type": "code",
   "execution_count": 2,
   "metadata": {
    "scrolled": true
   },
   "outputs": [
    {
     "data": {
      "text/plain": [
       "{'asist-windonly-fresh_warmup': <asist.experiment.Experiment at 0x7f900c669160>,\n",
       " 'asist-windonly-fresh': <asist.experiment.Experiment at 0x7f900c669198>,\n",
       " 'asist-wind-swell-fresh': <asist.experiment.Experiment at 0x7f900c669898>,\n",
       " 'asist-windonly-salt': <asist.experiment.Experiment at 0x7f900c669be0>,\n",
       " 'asist-wind-swell-salt': <asist.experiment.Experiment at 0x7f900c669f28>,\n",
       " 'asist-flow-distortion': <asist.experiment.Experiment at 0x7f900c6712b0>,\n",
       " 'asist-vertical-profile': <asist.experiment.Experiment at 0x7f900c6715f8>,\n",
       " 'asist-crosstank-profile': <asist.experiment.Experiment at 0x7f900c671940>}"
      ]
     },
     "execution_count": 2,
     "metadata": {},
     "output_type": "execute_result"
    }
   ],
   "source": [
    "experiments"
   ]
  },
  {
   "cell_type": "markdown",
   "metadata": {},
   "source": [
    "You can select a specific experiment like this:"
   ]
  },
  {
   "cell_type": "code",
   "execution_count": 3,
   "metadata": {},
   "outputs": [],
   "source": [
    "exp = experiments['asist-windonly-fresh']"
   ]
  },
  {
   "cell_type": "markdown",
   "metadata": {},
   "source": [
    "An `Experiment` instance is populated with a list of `Run` instances. Each `Run` instance has a fan frequency value and start and and times in UTC:"
   ]
  },
  {
   "cell_type": "code",
   "execution_count": 4,
   "metadata": {},
   "outputs": [
    {
     "name": "stdout",
     "output_type": "stream",
     "text": [
      "Fan [Hz], start time, end time\n",
      "0 2018-09-26 19:18:00 2018-09-26 19:24:00\n",
      "5 2018-09-26 19:24:00 2018-09-26 19:30:00\n",
      "10 2018-09-26 19:30:00 2018-09-26 19:36:00\n",
      "15 2018-09-26 19:36:00 2018-09-26 19:42:00\n",
      "20 2018-09-26 19:42:00 2018-09-26 19:48:00\n",
      "25 2018-09-26 19:48:00 2018-09-26 19:54:00\n",
      "30 2018-09-26 19:54:00 2018-09-26 20:00:00\n",
      "35 2018-09-26 20:00:00 2018-09-26 20:06:00\n",
      "40 2018-09-26 20:06:00 2018-09-26 20:12:00\n",
      "45 2018-09-26 20:12:00 2018-09-26 20:18:00\n",
      "50 2018-09-26 20:18:00 2018-09-26 20:24:00\n",
      "55 2018-09-26 20:24:00 2018-09-26 20:30:00\n",
      "60 2018-09-26 20:30:00 2018-09-26 20:36:00\n",
      "0 2018-09-26 20:36:00 2018-09-26 20:42:00\n"
     ]
    }
   ],
   "source": [
    "print('Fan [Hz], start time, end time')\n",
    "for run in exp.runs:\n",
    "    print(run.fan, run.start_time, run.end_time)"
   ]
  },
  {
   "cell_type": "markdown",
   "metadata": {},
   "source": [
    "If wave generator was used, `Run` instance will also have paddle amplitude (V) and frequency (Hz) information:"
   ]
  },
  {
   "cell_type": "code",
   "execution_count": 5,
   "metadata": {},
   "outputs": [
    {
     "name": "stdout",
     "output_type": "stream",
     "text": [
      "Fan [Hz], Paddle amplitude [V], Paddle frequency [Hz], start time, end time\n",
      "0 3.0 1.0 2018-09-27 14:42:00 2018-09-27 14:48:00\n",
      "5 3.0 1.0 2018-09-27 14:48:00 2018-09-27 14:54:00\n",
      "10 3.0 1.0 2018-09-27 14:54:00 2018-09-27 15:00:00\n",
      "15 3.0 1.0 2018-09-27 15:00:00 2018-09-27 15:06:00\n",
      "20 3.0 1.0 2018-09-27 15:06:00 2018-09-27 15:12:00\n",
      "25 3.0 1.0 2018-09-27 15:12:00 2018-09-27 15:18:00\n",
      "30 3.0 1.0 2018-09-27 15:18:00 2018-09-27 15:24:00\n",
      "35 3.0 1.0 2018-09-27 15:24:00 2018-09-27 15:30:00\n",
      "40 3.0 1.0 2018-09-27 15:30:00 2018-09-27 15:36:00\n",
      "45 3.0 1.0 2018-09-27 15:36:00 2018-09-27 15:42:00\n",
      "50 3.0 1.0 2018-09-27 15:42:00 2018-09-27 15:48:00\n",
      "55 3.0 1.0 2018-09-27 15:48:00 2018-09-27 15:54:00\n",
      "60 3.0 1.0 2018-09-27 15:54:00 2018-09-27 16:00:00\n",
      "0 3.0 1.0 2018-09-27 16:00:00 2018-09-27 16:06:00\n"
     ]
    }
   ],
   "source": [
    "exp = experiments['asist-wind-swell-fresh']\n",
    "print('Fan [Hz], Paddle amplitude [V], Paddle frequency [Hz], start time, end time')\n",
    "for run in exp.runs:\n",
    "    print(run.fan, run.paddle_amplitude, run.paddle_frequency, run.start_time, run.end_time)"
   ]
  },
  {
   "cell_type": "markdown",
   "metadata": {},
   "source": [
    "Listing experiment name, start time of the first run, and start tim of the last run:"
   ]
  },
  {
   "cell_type": "code",
   "execution_count": 6,
   "metadata": {},
   "outputs": [
    {
     "name": "stdout",
     "output_type": "stream",
     "text": [
      "asist-windonly-fresh-warmup 2018-09-24 19:10:00 2018-09-24 20:34:00\n",
      "asist-windonly-fresh 2018-09-26 19:18:00 2018-09-26 20:42:00\n",
      "asist-wind-swell-fresh 2018-09-27 14:42:00 2018-09-27 16:06:00\n",
      "asist-windonly-salt 2018-10-01 17:20:00 2018-10-01 18:44:00\n",
      "asist-wind-swell-salt 2018-10-01 19:54:00 2018-10-01 21:18:00\n",
      "asist-flow-distortion 2018-10-02 17:56:00 2018-10-02 18:24:00\n",
      "asist-vertical-profile 2018-10-02 20:50:00 2018-10-02 21:10:00\n",
      "asist-crosstank-profile 2018-10-04 19:00:00 2018-10-04 19:45:00\n"
     ]
    }
   ],
   "source": [
    "for exp in experiments.values():\n",
    "    print(exp.name, exp.runs[0].start_time, exp.runs[-1].end_time)"
   ]
  },
  {
   "cell_type": "code",
   "execution_count": null,
   "metadata": {},
   "outputs": [],
   "source": []
  }
 ],
 "metadata": {
  "kernelspec": {
   "display_name": "Python 3",
   "language": "python",
   "name": "python3"
  },
  "language_info": {
   "codemirror_mode": {
    "name": "ipython",
    "version": 3
   },
   "file_extension": ".py",
   "mimetype": "text/x-python",
   "name": "python",
   "nbconvert_exporter": "python",
   "pygments_lexer": "ipython3",
   "version": "3.6.6"
  }
 },
 "nbformat": 4,
 "nbformat_minor": 2
}
