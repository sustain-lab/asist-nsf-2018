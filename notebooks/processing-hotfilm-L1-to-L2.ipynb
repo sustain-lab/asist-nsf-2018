{
 "cells": [
  {
   "cell_type": "markdown",
   "metadata": {},
   "source": [
    "# Processing hot-film data from L1 (Labview ascii) to L2 (NetCDF)\n",
    "\n",
    "A function to process hot-film data to NetCDF, without any other modifications to the data, is defined in `asist_nsf_2018.process_level1` module. An environment variable `HOTFILM_DATA_PATH`, pointing to the path where the L1 data is stored, must be defined."
   ]
  },
  {
   "cell_type": "code",
   "execution_count": 1,
   "metadata": {},
   "outputs": [
    {
     "name": "stdout",
     "output_type": "stream",
     "text": [
      "Writing hotfilm_asist-windonly-fresh_warmup.nc\n",
      "Writing hotfilm_asist-windonly-fresh.nc\n",
      "Writing hotfilm_asist-windonly-salt.nc\n"
     ]
    }
   ],
   "source": [
    "from asist_nsf_2018.process_level1 import process_hotfilm_to_level2\n",
    "process_hotfilm_to_level2()"
   ]
  },
  {
   "cell_type": "code",
   "execution_count": null,
   "metadata": {},
   "outputs": [],
   "source": []
  }
 ],
 "metadata": {
  "kernelspec": {
   "display_name": "Python 3",
   "language": "python",
   "name": "python3"
  },
  "language_info": {
   "codemirror_mode": {
    "name": "ipython",
    "version": 3
   },
   "file_extension": ".py",
   "mimetype": "text/x-python",
   "name": "python",
   "nbconvert_exporter": "python",
   "pygments_lexer": "ipython3",
   "version": "3.6.6"
  }
 },
 "nbformat": 4,
 "nbformat_minor": 2
}
