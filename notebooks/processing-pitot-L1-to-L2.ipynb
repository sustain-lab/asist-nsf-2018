{
 "cells": [
  {
   "cell_type": "markdown",
   "metadata": {},
   "source": [
    "# Processing pitot tube data from L1 (TOA5 ascii) to L2 (NetCDF)\n",
    "\n",
    "A function to process pitot tube data to NetCDF, without any other modifications to the data, is defined in `asist_nsf_2018.process_level1` module. An environment variable `PRESSURE_DATA_PATH`, pointing to the path where the L1 data is stored, must be defined."
   ]
  },
  {
   "cell_type": "code",
   "execution_count": 1,
   "metadata": {},
   "outputs": [
    {
     "name": "stdout",
     "output_type": "stream",
     "text": [
      "Reading  TOA5_SUSTAINpresX4X2.pressure_1054_2018_10_01_1600.dat\n",
      "Reading  TOA5_SUSTAINpresX4X2.pressure_1055_2018_10_01_1700.dat\n",
      "Reading  TOA5_SUSTAINpresX4X2.pressure_1056_2018_10_01_1800.dat\n",
      "Reading  TOA5_SUSTAINpresX4X2.pressure_1057_2018_10_01_1900.dat\n",
      "Reading  TOA5_SUSTAINpresX4X2.pressure_1058_2018_10_01_2000.dat\n",
      "Reading  TOA5_SUSTAINpresX4X2.pressure_1078_2018_10_02_1600.dat\n",
      "Reading  TOA5_SUSTAINpresX4X2.pressure_1079_2018_10_02_1700.dat\n",
      "Reading  TOA5_SUSTAINpresX4X2.pressure_1080_2018_10_02_1800.dat\n",
      "Reading  TOA5_SUSTAINpresX4X2.pressure_1081_2018_10_02_1900.dat\n",
      "Reading  TOA5_SUSTAINpresX4X2.pressure_1082_2018_10_02_2000.dat\n",
      "Reading  TOA5_SUSTAINpresX4X2.pressure_1083_2018_10_02_2100.dat\n",
      "Reading  TOA5_SUSTAINpresX4X2.pressure_1128_2018_10_04_1800.dat\n",
      "Reading  TOA5_SUSTAINpresX4X2.pressure_1129_2018_10_04_1900.dat\n",
      "Reading  TOA5_SUSTAINpresX4X2.pressure_1130_2018_10_04_1958.dat\n",
      "Reading  TOA5_SUSTAINpresX4X2.pressure_1131_2018_10_04_2000.dat\n",
      "Reading  TOA5_SUSTAINpresX4X2.pressure_887_2018_09_24_1800.dat\n",
      "Reading  TOA5_SUSTAINpresX4X2.pressure_888_2018_09_24_1900.dat\n",
      "Reading  TOA5_SUSTAINpresX4X2.pressure_889_2018_09_24_2000.dat\n",
      "Reading  TOA5_SUSTAINpresX4X2.pressure_936_2018_09_26_1800.dat\n",
      "Reading  TOA5_SUSTAINpresX4X2.pressure_937_2018_09_26_1900.dat\n",
      "Reading  TOA5_SUSTAINpresX4X2.pressure_938_2018_09_26_2000.dat\n",
      "Reading  TOA5_SUSTAINpresX4X2.pressure_955_2018_09_27_1300.dat\n",
      "Reading  TOA5_SUSTAINpresX4X2.pressure_956_2018_09_27_1400.dat\n",
      "Reading  TOA5_SUSTAINpresX4X2.pressure_957_2018_09_27_1500.dat\n",
      "Reading  TOA5_SUSTAINpresX4X2.pressure_958_2018_09_27_1600.dat\n",
      "Writing pitot_asist-windonly-fresh_warmup.nc\n",
      "Writing pitot_asist-windonly-fresh.nc\n",
      "Writing pitot_asist-wind-swell-fresh.nc\n",
      "Writing pitot_asist-windonly-salt.nc\n",
      "Writing pitot_asist-wind-swell-salt.nc\n"
     ]
    }
   ],
   "source": [
    "from asist_nsf_2018.process_level1 import process_pitot_to_level2\n",
    "process_pitot_to_level2()"
   ]
  },
  {
   "cell_type": "code",
   "execution_count": null,
   "metadata": {},
   "outputs": [],
   "source": []
  }
 ],
 "metadata": {
  "kernelspec": {
   "display_name": "Python 3",
   "language": "python",
   "name": "python3"
  },
  "language_info": {
   "codemirror_mode": {
    "name": "ipython",
    "version": 3
   },
   "file_extension": ".py",
   "mimetype": "text/x-python",
   "name": "python",
   "nbconvert_exporter": "python",
   "pygments_lexer": "ipython3",
   "version": "3.6.6"
  }
 },
 "nbformat": 4,
 "nbformat_minor": 2
}
