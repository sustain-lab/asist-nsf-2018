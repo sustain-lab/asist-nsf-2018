{
 "cells": [
  {
   "cell_type": "markdown",
   "metadata": {},
   "source": [
    "# Processing IRGASON data from L1 (TOA5 ascii) to L2 (NetCDF)\n",
    "\n",
    "A function to process IRGASON data to NetCDF, without any other modifications to the data, is defined in `asist_nsf_2018.process_level1` module. An environment variable `IRGASON_DATA_PATH`, pointing to the path where the L1 data is stored, must be defined."
   ]
  },
  {
   "cell_type": "code",
   "execution_count": 2,
   "metadata": {},
   "outputs": [
    {
     "name": "stdout",
     "output_type": "stream",
     "text": [
      "Reading  TOA5_SUSTAIN_Wind.FAST_217_2018_09_26_1800.dat\n",
      "Reading  TOA5_SUSTAIN_Wind.FAST_218_2018_09_26_1900.dat\n",
      "Reading  TOA5_SUSTAIN_Wind.FAST_219_2018_09_26_2000.dat\n",
      "Reading  TOA5_SUSTAIN_Wind.FAST_236_2018_09_27_1300.dat\n",
      "Reading  TOA5_SUSTAIN_Wind.FAST_237_2018_09_27_1400.dat\n",
      "Reading  TOA5_SUSTAIN_Wind.FAST_238_2018_09_27_1500.dat\n",
      "Reading  TOA5_SUSTAIN_Wind.FAST_239_2018_09_27_1600.dat\n",
      "Reading  TOA5_SUSTAIN_Wind.FAST_335_2018_10_01_1600.dat\n",
      "Reading  TOA5_SUSTAIN_Wind.FAST_336_2018_10_01_1700.dat\n",
      "Reading  TOA5_SUSTAIN_Wind.FAST_337_2018_10_01_1800.dat\n",
      "Reading  TOA5_SUSTAIN_Wind.FAST_338_2018_10_01_1900.dat\n",
      "Reading  TOA5_SUSTAIN_Wind.FAST_339_2018_10_01_2000.dat\n",
      "Reading  TOA5_SUSTAIN_Wind.FAST_359_2018_10_02_1600.dat\n",
      "Reading  TOA5_SUSTAIN_Wind.FAST_360_2018_10_02_1700.dat\n",
      "Reading  TOA5_SUSTAIN_Wind.FAST_361_2018_10_02_1800.dat\n",
      "Reading  TOA5_SUSTAIN_Wind.FAST_362_2018_10_02_1900.dat\n",
      "Reading  TOA5_SUSTAIN_Wind.FAST_363_2018_10_02_2000.dat\n",
      "Reading  TOA5_SUSTAIN_Wind.FAST_364_2018_10_02_2100.dat\n",
      "Reading  TOA5_SUSTAIN_Wind.FAST_409_2018_10_04_1800.dat\n",
      "Reading  TOA5_SUSTAIN_Wind.FAST_410_2018_10_04_1900.dat\n",
      "Processing IRGASON time series..\n",
      "Writing irgason_asist-windonly-fresh.nc\n",
      "Writing irgason_asist-wind-swell-fresh.nc\n",
      "Writing irgason_asist-windonly-salt.nc\n",
      "Writing irgason_asist-wind-swell-salt.nc\n"
     ]
    }
   ],
   "source": [
    "from asist_nsf_2018.process_level1 import process_irgason_to_level2\n",
    "process_irgason_to_level2()"
   ]
  },
  {
   "cell_type": "code",
   "execution_count": null,
   "metadata": {},
   "outputs": [],
   "source": []
  }
 ],
 "metadata": {
  "kernelspec": {
   "display_name": "Python 3",
   "language": "python",
   "name": "python3"
  },
  "language_info": {
   "codemirror_mode": {
    "name": "ipython",
    "version": 3
   },
   "file_extension": ".py",
   "mimetype": "text/x-python",
   "name": "python",
   "nbconvert_exporter": "python",
   "pygments_lexer": "ipython3",
   "version": "3.6.6"
  }
 },
 "nbformat": 4,
 "nbformat_minor": 2
}
